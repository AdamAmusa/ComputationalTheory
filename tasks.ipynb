{
 "cells": [
  {
   "cell_type": "markdown",
   "metadata": {},
   "source": [
    "# Binary Representations"
   ]
  },
  {
   "cell_type": "markdown",
   "metadata": {},
   "source": [
    "## Bit Rotation\n",
    "**This task was completed using Python's [Bitwise operators.](https://www.geeksforgeeks.org/python-bitwise-operators/) The '0xff' operand is used to mask out every bit but the last 8 bits of the binary value.**  "
   ]
  },
  {
   "cell_type": "code",
   "execution_count": 12,
   "metadata": {},
   "outputs": [
    {
     "name": "stdout",
     "output_type": "stream",
     "text": [
      "0b111000\n",
      "0b11\n"
     ]
    }
   ],
   "source": [
    "import numpy\n",
    "import matplotlib.pyplot as plt\n",
    "import pandas as pd\n",
    "\n",
    "import unittest\n",
    "\n",
    "x = 14\n",
    "\n",
    "def rotl(x, n):\n",
    "    return (x << n) | (x >> (32 - n)) & 0xff\n",
    "            \n",
    "def rotr(x, n):\n",
    "    return (x >> n) | (x << (32 - n)) & 0xff     \n",
    "        \n",
    "print(bin(rotl(x, 2)))\n",
    "print(bin(rotr(x, 2)))\n",
    "\n"
   ]
  },
  {
   "cell_type": "markdown",
   "metadata": {},
   "source": [
    "## Choose bits\n",
    "Choose the bits from y where x has bits set to 1 and bits in z where x has bits set to 0.</br>\n",
    "**This method utilises Python's [bitwise operations](https://wiki.python.org/moin/BitwiseOperators).**"
   ]
  },
  {
   "cell_type": "code",
   "execution_count": 13,
   "metadata": {},
   "outputs": [
    {
     "data": {
      "text/plain": [
       "4"
      ]
     },
     "execution_count": 13,
     "metadata": {},
     "output_type": "execute_result"
    }
   ],
   "source": [
    "def ch(x, y, z):\n",
    "    return ((x | z) & y)\n",
    "\n",
    "ch(2, 4, 6)"
   ]
  },
  {
   "cell_type": "markdown",
   "metadata": {},
   "source": [
    "## Majority Vote Bits\n",
    "This method takes a majority vote of the bits from x, y and z, If the majority of the bits from a position is of 1's or 0's the corresponding position of the bit is set to the majority.</br>\n",
    "**This method uses Python's [bitwise operations](https://wiki.python.org/moin/BitwiseOperators).**\n"
   ]
  },
  {
   "cell_type": "code",
   "execution_count": 14,
   "metadata": {},
   "outputs": [
    {
     "data": {
      "text/plain": [
       "5"
      ]
     },
     "execution_count": 14,
     "metadata": {},
     "output_type": "execute_result"
    }
   ],
   "source": [
    "def maj(x, y, z):\n",
    "    return ((x & y) | (y & z) | (x & z))\n",
    "\n",
    "\n",
    "maj(3, 5, 12)\n"
   ]
  },
  {
   "cell_type": "markdown",
   "metadata": {},
   "source": [
    "### Binary Representation Tests </br>\n",
    "**Uses Python's [Unit Testing](https://docs.python.org/3/library/unittest.html) framework to perform tests on each of the functions.**"
   ]
  },
  {
   "cell_type": "code",
   "execution_count": 15,
   "metadata": {},
   "outputs": [
    {
     "name": "stderr",
     "output_type": "stream",
     "text": [
      "....\n",
      "----------------------------------------------------------------------\n",
      "Ran 4 tests in 0.004s\n",
      "\n",
      "OK\n"
     ]
    },
    {
     "data": {
      "text/plain": [
       "<unittest.main.TestProgram at 0x78633aa4a4b0>"
      ]
     },
     "execution_count": 15,
     "metadata": {},
     "output_type": "execute_result"
    }
   ],
   "source": [
    "class TestBitwiseFunctions(unittest.TestCase):\n",
    "    def test_rotl(self):\n",
    "        self.assertEqual(rotl(14, 2), 56)\n",
    "        \n",
    "    def test_rotr(self):\n",
    "        self.assertEqual(rotr(14, 2), 3)\n",
    "        \n",
    "    def test_ch(self):\n",
    "        self.assertEqual(ch(2, 4, 6), 4)\n",
    "        \n",
    "    def test_maj(self):\n",
    "        self.assertEqual(maj(3, 5, 12), 5)\n",
    "\n",
    "unittest.main(argv=[''], exit=False)        "
   ]
  },
  {
   "cell_type": "markdown",
   "metadata": {},
   "source": [
    "## Hash Functions\n",
    "\n",
    "The purpose of this function is to produce a unique hash value for a single string, hashes are commonly used in data retrieval and cryptography.\n",
    "\n",
    "**The value 101 is used to ensure the hash value is within the range of 0 to 100, the value 31 is used because its a prime number, prime numbers are used to divide hash values uniformly and prevent the likelihood of different inputs outputing the same value.**"
   ]
  },
  {
   "cell_type": "code",
   "execution_count": 16,
   "metadata": {},
   "outputs": [
    {
     "data": {
      "text/plain": [
       "50"
      ]
     },
     "execution_count": 16,
     "metadata": {},
     "output_type": "execute_result"
    }
   ],
   "source": [
    "def hash(s):\n",
    "    hashval = 0\n",
    "    for i in range(len(s)):\n",
    "        hashval = ord(s[i]) + 31 * hashval  \n",
    "    return hashval % 101\n",
    "        \n",
    "hash('adam') "
   ]
  },
  {
   "cell_type": "markdown",
   "metadata": {},
   "source": [
    "## SHA256\n",
    "This method hashes strings in accordance to the SHA256 secure hash standard. The formula for this function was attained from the [FIPS PUB 180-4](https://nvlpubs.nist.gov/nistpubs/FIPS/NIST.FIPS.180-4.pdf) paper, Secure hasing is used for securing confidential information such as passwords."
   ]
  },
  {
   "cell_type": "code",
   "execution_count": null,
   "metadata": {},
   "outputs": [
    {
     "data": {
      "text/plain": [
       "'80000000000000000000000000000000000000000000000000000000000000000000000000000000000000000000000000000000000000000000000018'"
      ]
     },
     "execution_count": 26,
     "metadata": {},
     "output_type": "execute_result"
    }
   ],
   "source": [
    "def sha256(path):\n",
    "    with open(path, 'rb') as file:\n",
    "        binarydata = file.read()   \n",
    "        ln = len(binarydata) * 8\n",
    "        padding = b'\\x80'\n",
    "\n",
    "        k = ((448) % 512)- ln - 1 # k is the number of zeros to be added\n",
    "        zero_padding = b'\\x00' * (k//8) #converts k to bytes\n",
    "\n",
    "        length_big_endian = ln.to_bytes(8, byteorder='big') #converts length to bytes\n",
    "        sha = padding + zero_padding + length_big_endian\n",
    "        return sha.hex()\n",
    "\n",
    "sha256(\"test.txt\")    \n"
   ]
  },
  {
   "cell_type": "markdown",
   "metadata": {},
   "source": [
    "## Prime Numbers"
   ]
  },
  {
   "cell_type": "markdown",
   "metadata": {},
   "source": [
    "### Sieve of Eratosthenes\n"
   ]
  },
  {
   "cell_type": "code",
   "execution_count": 24,
   "metadata": {},
   "outputs": [
    {
     "data": {
      "text/plain": [
       "[2,\n",
       " 3,\n",
       " 5,\n",
       " 7,\n",
       " 11,\n",
       " 13,\n",
       " 17,\n",
       " 19,\n",
       " 23,\n",
       " 29,\n",
       " 31,\n",
       " 37,\n",
       " 41,\n",
       " 43,\n",
       " 47,\n",
       " 53,\n",
       " 59,\n",
       " 61,\n",
       " 67,\n",
       " 71,\n",
       " 73,\n",
       " 79,\n",
       " 83,\n",
       " 89,\n",
       " 97]"
      ]
     },
     "execution_count": 24,
     "metadata": {},
     "output_type": "execute_result"
    }
   ],
   "source": [
    "def prime_sieve():\n",
    "    sieve = []\n",
    "    prime_numbers = []\n",
    "    numbers = [i for i in range(2, 101)]\n",
    "    p = numbers[0]\n",
    "    prime_numbers.append(p)\n",
    "    while all(p <= x for x in numbers):\n",
    "        for num in numbers:\n",
    "            marked = num*p\n",
    "            if marked <= 100:\n",
    "                sieve.append(marked)\n",
    "        filtered_numbers = [item for item in numbers if item not in sieve]\n",
    "        numbers = filtered_numbers\n",
    "        del numbers[0]\n",
    "        if numbers:  # Only update p if numbers is not empty\n",
    "            p = numbers[0]\n",
    "        else:\n",
    "            break  # Exit loop to avoid index error\n",
    "        prime_numbers.append(p)\n",
    "    return prime_numbers\n",
    "       \n",
    "prime_sieve()"
   ]
  },
  {
   "cell_type": "code",
   "execution_count": null,
   "metadata": {},
   "outputs": [],
   "source": []
  },
  {
   "cell_type": "code",
   "execution_count": null,
   "metadata": {},
   "outputs": [],
   "source": []
  }
 ],
 "metadata": {
  "kernelspec": {
   "display_name": "Python 3",
   "language": "python",
   "name": "python3"
  },
  "language_info": {
   "codemirror_mode": {
    "name": "ipython",
    "version": 3
   },
   "file_extension": ".py",
   "mimetype": "text/x-python",
   "name": "python",
   "nbconvert_exporter": "python",
   "pygments_lexer": "ipython3",
   "version": "3.12.1"
  }
 },
 "nbformat": 4,
 "nbformat_minor": 2
}
