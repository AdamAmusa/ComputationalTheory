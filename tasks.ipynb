{
 "cells": [
  {
   "cell_type": "markdown",
   "metadata": {},
   "source": []
  },
  {
   "cell_type": "code",
   "execution_count": 29,
   "metadata": {},
   "outputs": [
    {
     "name": "stdout",
     "output_type": "stream",
     "text": [
      "[1, 0, 1, 1, 0, 0]\n",
      "Bit Size:  6\n",
      "5  has the bit  0\n",
      "4  has the bit  0\n",
      "3  has the bit  1\n",
      "2  has the bit  1\n",
      "1  has the bit  0\n",
      "0  has the bit  1\n",
      "[1, 0, 1, 1, 0, 0]\n",
      "Bit Size:  6\n",
      "5  has the bit  0\n",
      "4  has the bit  0\n",
      "3  has the bit  1\n",
      "2  has the bit  1\n",
      "1  has the bit  0\n",
      "0  has the bit  1\n"
     ]
    },
    {
     "data": {
      "text/plain": [
       "[1, 0, 1, 1, 0, 0]"
      ]
     },
     "execution_count": 29,
     "metadata": {},
     "output_type": "execute_result"
    }
   ],
   "source": [
    "import numpy,matplotlib,pandas\n",
    "x = 44\n",
    "\n",
    "def rotl(x, n):\n",
    "    rotatedbits = []\n",
    "    binary = format(44, 'b')\n",
    "    bits = [int(digit) for digit in str(binary)]\n",
    "    rotatedbits = bits.copy()\n",
    "    \n",
    "    for i in range(n):\n",
    "        print(bits)\n",
    "        bitSize = len(bits)\n",
    "        print(\"Bit Size: \" , bitSize)\n",
    "        for index, bit in enumerate(reversed(rotatedbits)):\n",
    "            print((bitSize-1) - index, \" has the bit \", bit)\n",
    "            #rotatedbits.insert(bitSize-1,bit)\n",
    "            \n",
    "            \n",
    "    return rotatedbits\n",
    "            \n",
    "        \n",
    "    \n",
    "    \n",
    "\n",
    "\n",
    "rotl(x, 2)\n",
    "\n"
   ]
  },
  {
   "cell_type": "code",
   "execution_count": null,
   "metadata": {},
   "outputs": [],
   "source": []
  }
 ],
 "metadata": {
  "kernelspec": {
   "display_name": "Python 3",
   "language": "python",
   "name": "python3"
  },
  "language_info": {
   "codemirror_mode": {
    "name": "ipython",
    "version": 3
   },
   "file_extension": ".py",
   "mimetype": "text/x-python",
   "name": "python",
   "nbconvert_exporter": "python",
   "pygments_lexer": "ipython3",
   "version": "3.12.1"
  }
 },
 "nbformat": 4,
 "nbformat_minor": 2
}
