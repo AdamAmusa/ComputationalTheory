{
 "cells": [
  {
   "cell_type": "markdown",
   "metadata": {},
   "source": [
    "# Binary Representations"
   ]
  },
  {
   "cell_type": "markdown",
   "metadata": {},
   "source": [
    "## Bit Rotation\n",
    "**This task was completed using Python's [Bitwise operators.](https://www.geeksforgeeks.org/python-bitwise-operators/) The '0xff' operand is used to mask out every bit but the last 8 bits of the binary value.**  "
   ]
  },
  {
   "cell_type": "code",
   "execution_count": 1,
   "metadata": {},
   "outputs": [
    {
     "name": "stdout",
     "output_type": "stream",
     "text": [
      "0b111000\n",
      "0b11\n"
     ]
    }
   ],
   "source": [
    "import numpy as np\n",
    "import matplotlib.pyplot as plt\n",
    "import pandas as pd\n",
    "\n",
    "import unittest\n",
    "\n",
    "x = 14\n",
    "\n",
    "def rotl(x, n):\n",
    "    return (x << n) | (x >> (32 - n)) & 0xff\n",
    "            \n",
    "def rotr(x, n):\n",
    "    return (x >> n) | (x << (32 - n)) & 0xff     \n",
    "        \n",
    "print(bin(rotl(x, 2)))\n",
    "print(bin(rotr(x, 2)))\n",
    "\n"
   ]
  },
  {
   "cell_type": "markdown",
   "metadata": {},
   "source": [
    "## Choose bits\n",
    "Choose the bits from y where x has bits set to 1 and bits in z where x has bits set to 0.</br>\n",
    "**This method utilises Python's [bitwise operations](https://wiki.python.org/moin/BitwiseOperators).**"
   ]
  },
  {
   "cell_type": "code",
   "execution_count": 2,
   "metadata": {},
   "outputs": [
    {
     "data": {
      "text/plain": [
       "4"
      ]
     },
     "execution_count": 2,
     "metadata": {},
     "output_type": "execute_result"
    }
   ],
   "source": [
    "def ch(x, y, z):\n",
    "    return ((x | z) & y)\n",
    "\n",
    "ch(2, 4, 6)"
   ]
  },
  {
   "cell_type": "markdown",
   "metadata": {},
   "source": [
    "## Majority Vote Bits\n",
    "This method takes a majority vote of the bits from x, y and z, If the majority of the bits from a position is of 1's or 0's the corresponding position of the bit is set to the majority.</br>\n",
    "**This method uses Python's [bitwise operations](https://wiki.python.org/moin/BitwiseOperators).**\n"
   ]
  },
  {
   "cell_type": "code",
   "execution_count": 3,
   "metadata": {},
   "outputs": [
    {
     "data": {
      "text/plain": [
       "5"
      ]
     },
     "execution_count": 3,
     "metadata": {},
     "output_type": "execute_result"
    }
   ],
   "source": [
    "def maj(x, y, z):\n",
    "    return ((x & y) | (y & z) | (x & z))\n",
    "\n",
    "\n",
    "maj(3, 5, 12)\n"
   ]
  },
  {
   "cell_type": "markdown",
   "metadata": {},
   "source": [
    "### Binary Representation Tests </br>\n",
    "**Uses Python's [Unit Testing](https://docs.python.org/3/library/unittest.html) framework to perform tests on each of the functions.**"
   ]
  },
  {
   "cell_type": "code",
   "execution_count": 4,
   "metadata": {},
   "outputs": [
    {
     "name": "stderr",
     "output_type": "stream",
     "text": [
      "....\n",
      "----------------------------------------------------------------------\n",
      "Ran 4 tests in 0.003s\n",
      "\n",
      "OK\n"
     ]
    },
    {
     "data": {
      "text/plain": [
       "<unittest.main.TestProgram at 0x798ad81aab40>"
      ]
     },
     "execution_count": 4,
     "metadata": {},
     "output_type": "execute_result"
    }
   ],
   "source": [
    "class TestBitwiseFunctions(unittest.TestCase):\n",
    "    def test_rotl(self):\n",
    "        self.assertEqual(rotl(14, 2), 56)\n",
    "        \n",
    "    def test_rotr(self):\n",
    "        self.assertEqual(rotr(14, 2), 3)\n",
    "        \n",
    "    def test_ch(self):\n",
    "        self.assertEqual(ch(2, 4, 6), 4)\n",
    "        \n",
    "    def test_maj(self):\n",
    "        self.assertEqual(maj(3, 5, 12), 5)\n",
    "\n",
    "unittest.main(argv=[''], exit=False)        "
   ]
  },
  {
   "cell_type": "markdown",
   "metadata": {},
   "source": [
    "## Hash Functions\n",
    "\n",
    "The purpose of this function is to produce a unique hash value for a single string, hashes are commonly used in data retrieval and cryptography.\n",
    "\n",
    "**The value 101 is used to ensure the hash value is within the range of 0 to 100, the value 31 is used because its a prime number, prime numbers are used to divide hash values uniformly and prevent the likelihood of different inputs outputing the same value.**"
   ]
  },
  {
   "cell_type": "code",
   "execution_count": 5,
   "metadata": {},
   "outputs": [
    {
     "data": {
      "text/plain": [
       "50"
      ]
     },
     "execution_count": 5,
     "metadata": {},
     "output_type": "execute_result"
    }
   ],
   "source": [
    "def hash(s):\n",
    "    hashval = 0\n",
    "    for i in range(len(s)):\n",
    "        hashval = ord(s[i]) + 31 * hashval  \n",
    "    return hashval % 101\n",
    "        \n",
    "hash('adam') "
   ]
  },
  {
   "cell_type": "markdown",
   "metadata": {},
   "source": [
    "## SHA256\n",
    "This method hashes strings in accordance to the SHA256 secure hash standard. The formula for this function was attained from the [FIPS PUB 180-4](https://nvlpubs.nist.gov/nistpubs/FIPS/NIST.FIPS.180-4.pdf) paper, Secure hasing is used for securing confidential information such as passwords."
   ]
  },
  {
   "cell_type": "code",
   "execution_count": 6,
   "metadata": {},
   "outputs": [
    {
     "data": {
      "text/plain": [
       "'80000000000000000000000000000000000000000000000000000000000000000000000000000000000000000000000000000000000000000000000018'"
      ]
     },
     "execution_count": 6,
     "metadata": {},
     "output_type": "execute_result"
    }
   ],
   "source": [
    "def sha256(path):\n",
    "    with open(path, 'rb') as file:\n",
    "        binarydata = file.read()   \n",
    "        ln = len(binarydata) * 8\n",
    "        padding = b'\\x80'\n",
    "\n",
    "        k = ((448) % 512)- ln - 1 # k is the number of zeros to be added\n",
    "        zero_padding = b'\\x00' * (k//8) #converts k to bytes\n",
    "\n",
    "        length_big_endian = ln.to_bytes(8, byteorder='big') #converts length to bytes\n",
    "        sha = padding + zero_padding + length_big_endian\n",
    "        return sha.hex()\n",
    "\n",
    "sha256(\"test.txt\")    \n"
   ]
  },
  {
   "cell_type": "markdown",
   "metadata": {},
   "source": [
    "## Prime Numbers"
   ]
  },
  {
   "cell_type": "markdown",
   "metadata": {},
   "source": [
    "### **Sieve of Eratosthenes**\n",
    "[Sieve of Eratosthenes](https://en.wikipedia.org/wiki/Sieve_of_Eratosthenes) is one of the oldest algorithms used to find all prime numbers up to any given limit, It works by creating a list of integers from 2 to 100 (n), At first p is assigned to 2 which is the smallest prime number. Loop through the list and enumerate the multiples of 2 within it for example (2p, 3p, 4p), and mark them in the list; in the function, this is done so by filtering the multiples from the list of numbers. You then find the smallest number in the newly appended list overwrite p with that number and repeat the algorithm until there is no number in the list greater than p, and finally when the algorithm finishes the output should be all prime numbers below 100 (n)."
   ]
  },
  {
   "cell_type": "code",
   "execution_count": 10,
   "metadata": {},
   "outputs": [
    {
     "data": {
      "text/plain": [
       "[2,\n",
       " 3,\n",
       " 5,\n",
       " 7,\n",
       " 11,\n",
       " 13,\n",
       " 17,\n",
       " 19,\n",
       " 23,\n",
       " 29,\n",
       " 31,\n",
       " 37,\n",
       " 41,\n",
       " 43,\n",
       " 47,\n",
       " 53,\n",
       " 59,\n",
       " 61,\n",
       " 67,\n",
       " 71,\n",
       " 73,\n",
       " 79,\n",
       " 83,\n",
       " 89,\n",
       " 97,\n",
       " 101,\n",
       " 103,\n",
       " 107,\n",
       " 109,\n",
       " 113,\n",
       " 127,\n",
       " 131,\n",
       " 137,\n",
       " 139,\n",
       " 149,\n",
       " 151,\n",
       " 157,\n",
       " 163,\n",
       " 167,\n",
       " 173,\n",
       " 179,\n",
       " 181,\n",
       " 191,\n",
       " 193,\n",
       " 197,\n",
       " 199,\n",
       " 211,\n",
       " 223,\n",
       " 227,\n",
       " 229,\n",
       " 233,\n",
       " 239,\n",
       " 241,\n",
       " 251,\n",
       " 257,\n",
       " 263,\n",
       " 269,\n",
       " 271,\n",
       " 277,\n",
       " 281,\n",
       " 283,\n",
       " 293,\n",
       " 307,\n",
       " 311,\n",
       " 313,\n",
       " 317,\n",
       " 331,\n",
       " 337,\n",
       " 347,\n",
       " 349,\n",
       " 353,\n",
       " 359,\n",
       " 367,\n",
       " 373,\n",
       " 379,\n",
       " 383,\n",
       " 389,\n",
       " 397,\n",
       " 401,\n",
       " 409,\n",
       " 419,\n",
       " 421,\n",
       " 431,\n",
       " 433,\n",
       " 439,\n",
       " 443,\n",
       " 449,\n",
       " 457,\n",
       " 461,\n",
       " 463,\n",
       " 467,\n",
       " 479,\n",
       " 487,\n",
       " 491,\n",
       " 499,\n",
       " 503,\n",
       " 509,\n",
       " 521,\n",
       " 523,\n",
       " 541]"
      ]
     },
     "execution_count": 10,
     "metadata": {},
     "output_type": "execute_result"
    }
   ],
   "source": [
    "#range 2, 546 for 100 prime numbers\n",
    "def eratosthenes_sieve():\n",
    "    sieve = []\n",
    "    prime_numbers = []\n",
    "    numbers = [i for i in range(2, 546)] # Create list of numbers from 2 to 100\n",
    "    p = numbers[0]\n",
    "    prime_numbers.append(2)\n",
    "    while numbers:\n",
    "        for num in numbers:\n",
    "            marked = num*p\n",
    "            sieve.append(marked)\n",
    "        filtered_numbers = [item for item in numbers if item not in sieve] # Remove marked numbers from list\n",
    "        numbers = filtered_numbers\n",
    "        del numbers[0]\n",
    "        if numbers:  # Only update p if numbers is not empty\n",
    "            p = numbers[0] # Update p to the next prime number\n",
    "        else:\n",
    "            break  # Exit loop to avoid index error\n",
    "        prime_numbers.append(p)\n",
    "    return prime_numbers\n",
    "       \n",
    "eratosthenes_sieve()"
   ]
  },
  {
   "cell_type": "markdown",
   "metadata": {},
   "source": [
    "### **Sieve of Sundaram**\n",
    "This method uses the [Sieve of Sundaram](https://en.wikipedia.org/wiki/Sieve_of_Sundaram), The sieve_list starts with initial values of 1 to 100, firstly all pair combinations of i, j from the sieve_list that   "
   ]
  },
  {
   "cell_type": "code",
   "execution_count": 11,
   "metadata": {},
   "outputs": [
    {
     "data": {
      "text/plain": [
       "[2,\n",
       " 3,\n",
       " 5,\n",
       " 7,\n",
       " 11,\n",
       " 13,\n",
       " 17,\n",
       " 19,\n",
       " 23,\n",
       " 29,\n",
       " 31,\n",
       " 37,\n",
       " 41,\n",
       " 43,\n",
       " 47,\n",
       " 53,\n",
       " 59,\n",
       " 61,\n",
       " 67,\n",
       " 71,\n",
       " 73,\n",
       " 79,\n",
       " 83,\n",
       " 89,\n",
       " 97,\n",
       " 101,\n",
       " 103,\n",
       " 107,\n",
       " 109,\n",
       " 113,\n",
       " 127,\n",
       " 131,\n",
       " 137,\n",
       " 139,\n",
       " 149,\n",
       " 151,\n",
       " 157,\n",
       " 163,\n",
       " 167,\n",
       " 173,\n",
       " 179,\n",
       " 181,\n",
       " 191,\n",
       " 193,\n",
       " 197,\n",
       " 199,\n",
       " 211,\n",
       " 223,\n",
       " 227,\n",
       " 229,\n",
       " 233,\n",
       " 239,\n",
       " 241,\n",
       " 251,\n",
       " 257,\n",
       " 263,\n",
       " 269,\n",
       " 271,\n",
       " 277,\n",
       " 281,\n",
       " 283,\n",
       " 293,\n",
       " 307,\n",
       " 311,\n",
       " 313,\n",
       " 317,\n",
       " 331,\n",
       " 337,\n",
       " 347,\n",
       " 349,\n",
       " 353,\n",
       " 359,\n",
       " 367,\n",
       " 373,\n",
       " 379,\n",
       " 383,\n",
       " 389,\n",
       " 397,\n",
       " 401,\n",
       " 409,\n",
       " 419,\n",
       " 421,\n",
       " 431,\n",
       " 433,\n",
       " 439,\n",
       " 443,\n",
       " 449,\n",
       " 457,\n",
       " 461,\n",
       " 463,\n",
       " 467,\n",
       " 479,\n",
       " 487,\n",
       " 491,\n",
       " 499,\n",
       " 503,\n",
       " 509,\n",
       " 521,\n",
       " 523,\n",
       " 541]"
      ]
     },
     "execution_count": 11,
     "metadata": {},
     "output_type": "execute_result"
    }
   ],
   "source": [
    "#1, 273 for 100 prime numbers\n",
    "\n",
    "def sundaram_sieve():\n",
    "    sieve_list  = [i for i in range(1, 273)]\n",
    "    prime_numbers = []\n",
    "    prime_numbers.append(2)\n",
    "    for i in range(1, 273):\n",
    "        for j in range(1, 273):\n",
    "            remove = i + j + 2 *(i *j)\n",
    "            if remove in sieve_list:\n",
    "                sieve_list.remove(remove)\n",
    "    for num in sieve_list:\n",
    "        prime = (2 * num) + 1\n",
    "        prime_numbers.append(prime)\n",
    "    return prime_numbers\n",
    "\n",
    "sundaram_sieve()\n",
    "    "
   ]
  },
  {
   "cell_type": "markdown",
   "metadata": {},
   "source": [
    "### Calculate the first 32 bits of the fractional part of the square roots of the first 100 prime numbers."
   ]
  },
  {
   "cell_type": "code",
   "execution_count": 12,
   "metadata": {},
   "outputs": [
    {
     "data": {
      "text/plain": [
       "['00111110110101000001001111001101',\n",
       " '00111111001110110110011110101111',\n",
       " '00111110011100011011101111001110',\n",
       " '00111111001001010100111111110101',\n",
       " '00111110101000100001110010100101',\n",
       " '00111111000110110000010101101001',\n",
       " '00111101111111000001111011001101',\n",
       " '00111110101101111100000110011010',\n",
       " '00111111010010111011101110011101',\n",
       " '00111110110001010011010001010010',\n",
       " '00111111000100010101100100000001',\n",
       " '00111101101010010111111101100111',\n",
       " '00111110110011100110011001001101',\n",
       " '00111111000011101011010001001011',\n",
       " '00111111010110110000110000101110',\n",
       " '00111110100011110110101010010000',\n",
       " '00111111001011100101111110010001',\n",
       " '00111111010011110110110010000110',\n",
       " '00111110001111011100110100011110',\n",
       " '00111110110110100011000001001110',\n",
       " '00111111000010110100001111010100',\n",
       " '00111111011000110110000010110110',\n",
       " '00111101111000100010101100000000',\n",
       " '00111110110111100011001011000110',\n",
       " '00111111010110010100111010111111',\n",
       " '00111101010011000100101001100001',\n",
       " '00111110000110000111011100001000',\n",
       " '00111110101100000010101101001111',\n",
       " '00111110111000010110111111011011',\n",
       " '00111111001000010101000100111100',\n",
       " '00111110100010011111001001101100',\n",
       " '00111110111001000001101110011100',\n",
       " '00111111001101000110011100110111',\n",
       " '00111111010010100011001000001011',\n",
       " '00111110010100111000001101010001',\n",
       " '00111110100100111000111110110011',\n",
       " '00111111000001111010101110111010',\n",
       " '00111111010001000110001110100011',\n",
       " '00111111011011000011111111000100',\n",
       " '00111110000111001001110111111110',\n",
       " '00111110110000100001011111011000',\n",
       " '00111110111010000100000101101001',\n",
       " '00111111010100011111110110001010',\n",
       " '00111111011001000111011100110110',\n",
       " '00111101000100100001100101111111',\n",
       " '00111101110110101001100001100101',\n",
       " '00111111000001101001110101100011',\n",
       " '00111111011011101110010100101110',\n",
       " '00111101100010000011101100110100',\n",
       " '00111110000001111110111010001110',\n",
       " '00111110100001110101011100111111',\n",
       " '00111110111010110101001111110010',\n",
       " '00111111000001100011000001010000',\n",
       " '00111111010101111100110110000001',\n",
       " '00111100111111111100000000100000',\n",
       " '00111110010111100111110101000101',\n",
       " '00111110110011010110110010100011',\n",
       " '00111110111011001001010101110001',\n",
       " '00111111001001001011000001101100',\n",
       " '00111111010000110101011110001100',\n",
       " '00111111010100101001011000101010',\n",
       " '00111101111100000001110011111010',\n",
       " '00111111000001010111101101111100',\n",
       " '00111111001000101001101111110011',\n",
       " '00111111001100010001101000110011',\n",
       " '00111111010011011111001101001111',\n",
       " '00111110010001100000110000010001',\n",
       " '00111110101101110001001000010010',\n",
       " '00111111001000001100000001101010',\n",
       " '00111111001011100111100110000100',\n",
       " '00111111010010011100110110100111',\n",
       " '00111111011100101000000111110010',\n",
       " '00111110001000010000010010010110',\n",
       " '00111110101000000101110011001010',\n",
       " '00111110111011111001001110000100',\n",
       " '00111111000100100000010011001110',\n",
       " '00111111001110010001101111110110',\n",
       " '00111111011011001100001110001101',\n",
       " '00111100110011001010110000010011',\n",
       " '00111110011001010001111001001110',\n",
       " '00111110111100000110000011101101',\n",
       " '00111111000001001010111001001011',\n",
       " '00111111010000101011001010110111',\n",
       " '00111111010011110000001111010010',\n",
       " '00111111011100111100101110110001',\n",
       " '00111101010000101101001110110101',\n",
       " '00111110010000100010101111000110',\n",
       " '00111110110000010100111101010011',\n",
       " '00111110111100010001101100110000',\n",
       " '00111111000001000111011010011011',\n",
       " '00111111000111000011010011110000',\n",
       " '00111111011000101101010101100101',\n",
       " '00111101100010110110101110110000',\n",
       " '00111110001000100101001100000100',\n",
       " '00111110101011010011011010110010',\n",
       " '00111110110110101111011001110010',\n",
       " '00111111000011111001111110001110',\n",
       " '00111111010100110100111100000100',\n",
       " '00111111010111101000001101110011',\n",
       " '00111110100001001101000011110100']"
      ]
     },
     "execution_count": 12,
     "metadata": {},
     "output_type": "execute_result"
    }
   ],
   "source": [
    "def roots():\n",
    "    prime_numbers = sundaram_sieve()\n",
    "    binary_fractional_parts = []  \n",
    "    for num in prime_numbers:\n",
    "        square_root = np.sqrt(num)\n",
    "        fractional_part = square_root % 1\n",
    "        binary_float = np.binary_repr(np.float32(fractional_part).view(np.int32), width=32)\n",
    "        binary_fractional_parts.append(binary_float)\n",
    "    return binary_fractional_parts\n",
    "roots()"
   ]
  },
  {
   "cell_type": "code",
   "execution_count": 17,
   "metadata": {},
   "outputs": [
    {
     "data": {
      "text/plain": [
       "'101000'"
      ]
     },
     "execution_count": 17,
     "metadata": {},
     "output_type": "execute_result"
    }
   ],
   "source": [
    "def turing(tape):\n",
    "    tape = list(map(int, tape))\n",
    "    for i, num in reversed(list(enumerate(tape))):\n",
    "        if num == 1:\n",
    "            tape.pop(i)\n",
    "            tape.insert(i, 0)\n",
    "        elif num == 0:\n",
    "            tape.pop(i)\n",
    "            tape.insert(i, 1)\n",
    "            break\n",
    "    return ''.join(map(str, tape))\n",
    " \n",
    "turing('100111')    "
   ]
  }
 ],
 "metadata": {
  "kernelspec": {
   "display_name": "Python 3",
   "language": "python",
   "name": "python3"
  },
  "language_info": {
   "codemirror_mode": {
    "name": "ipython",
    "version": 3
   },
   "file_extension": ".py",
   "mimetype": "text/x-python",
   "name": "python",
   "nbconvert_exporter": "python",
   "pygments_lexer": "ipython3",
   "version": "3.12.1"
  }
 },
 "nbformat": 4,
 "nbformat_minor": 2
}
