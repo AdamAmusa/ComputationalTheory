{
 "cells": [
  {
   "cell_type": "markdown",
   "metadata": {},
   "source": [
    "# Binary Representations"
   ]
  },
  {
   "cell_type": "markdown",
   "metadata": {},
   "source": [
    "## Bit Rotation\n",
    "**This task was completed using Python's [Bitwise operators.](https://www.geeksforgeeks.org/python-bitwise-operators/) The '0xff' operand is used to mask out every bit but the last 8 bits of the binary value.**  "
   ]
  },
  {
   "cell_type": "code",
   "execution_count": 1,
   "metadata": {},
   "outputs": [
    {
     "name": "stdout",
     "output_type": "stream",
     "text": [
      "0b111000\n",
      "0b11\n"
     ]
    }
   ],
   "source": [
    "import numpy\n",
    "import matplotlib.pyplot as plt\n",
    "import pandas as pd\n",
    "\n",
    "import unittest\n",
    "\n",
    "x = 14\n",
    "\n",
    "def rotl(x, n):\n",
    "    return (x << n) | (x << (32 - n)) & 0xff\n",
    "            \n",
    "def rotr(x, n):\n",
    "    return (x >> n) | (x >> (32 - n)) & 0xff     \n",
    "        \n",
    "print(bin(rotl(x, 2)))\n",
    "print(bin(rotr(x, 2)))\n",
    "\n"
   ]
  },
  {
   "cell_type": "markdown",
   "metadata": {},
   "source": [
    "## Choose bits\n",
    "Choose the bits from y where x has bits set to 1 and bits in z where x has bits set to 0.</br>\n",
    "**This method utilises Python's [bitwise operations](https://wiki.python.org/moin/BitwiseOperators).**"
   ]
  },
  {
   "cell_type": "code",
   "execution_count": 2,
   "metadata": {},
   "outputs": [
    {
     "data": {
      "text/plain": [
       "4"
      ]
     },
     "execution_count": 2,
     "metadata": {},
     "output_type": "execute_result"
    }
   ],
   "source": [
    "def ch(x, y, z):\n",
    "    return ((x | z) & y)\n",
    "\n",
    "ch(2, 4, 6)"
   ]
  },
  {
   "cell_type": "markdown",
   "metadata": {},
   "source": [
    "## Majority Vote Bits\n",
    "This method takes a majority vote of the bits from x, y and z, If the majority of the bits from a position is of 1's or 0's the corresponding position of the bit is set to the majority.</br>\n",
    "**This method uses Python's [bitwise operations](https://wiki.python.org/moin/BitwiseOperators).**\n"
   ]
  },
  {
   "cell_type": "code",
   "execution_count": 3,
   "metadata": {},
   "outputs": [
    {
     "data": {
      "text/plain": [
       "5"
      ]
     },
     "execution_count": 3,
     "metadata": {},
     "output_type": "execute_result"
    }
   ],
   "source": [
    "\n",
    "def maj(x, y, z):\n",
    "    return ((x & y) | (y & z) | (x & z))\n",
    "\n",
    "\n",
    "maj(3, 5, 12)\n"
   ]
  },
  {
   "cell_type": "code",
   "execution_count": 4,
   "metadata": {},
   "outputs": [
    {
     "name": "stderr",
     "output_type": "stream",
     "text": [
      "....\n",
      "----------------------------------------------------------------------\n",
      "Ran 4 tests in 0.003s\n",
      "\n",
      "OK\n"
     ]
    },
    {
     "data": {
      "text/plain": [
       "<unittest.main.TestProgram at 0x7b15084d43e0>"
      ]
     },
     "execution_count": 4,
     "metadata": {},
     "output_type": "execute_result"
    }
   ],
   "source": [
    "class TestBitwiseFunctions(unittest.TestCase):\n",
    "    def test_rotl(self):\n",
    "        self.assertEqual(rotl(14, 2), 56)\n",
    "        \n",
    "    def test_rotr(self):\n",
    "        self.assertEqual(rotr(14, 2), 3)\n",
    "        \n",
    "    def test_ch(self):\n",
    "        self.assertEqual(ch(2, 4, 6), 4)\n",
    "        \n",
    "    def test_maj(self):\n",
    "        self.assertEqual(maj(3, 5, 12), 5)\n",
    "\n",
    "unittest.main(argv=[''], exit=False)        "
   ]
  }
 ],
 "metadata": {
  "kernelspec": {
   "display_name": "Python 3",
   "language": "python",
   "name": "python3"
  },
  "language_info": {
   "codemirror_mode": {
    "name": "ipython",
    "version": 3
   },
   "file_extension": ".py",
   "mimetype": "text/x-python",
   "name": "python",
   "nbconvert_exporter": "python",
   "pygments_lexer": "ipython3",
   "version": "3.12.1"
  }
 },
 "nbformat": 4,
 "nbformat_minor": 2
}
