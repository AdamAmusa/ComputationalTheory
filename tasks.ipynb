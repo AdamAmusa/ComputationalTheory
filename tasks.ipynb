{
 "cells": [
  {
   "cell_type": "markdown",
   "metadata": {},
   "source": []
  },
  {
   "cell_type": "code",
   "execution_count": 2,
   "metadata": {},
   "outputs": [],
   "source": [
    "import numpy,matplotlib,pandas\n",
    "x = 44\n",
    "\n",
    "def rotl(x, n):\n",
    "    rotatedbits = []\n",
    "    binary = format(44, 'b')\n",
    "    bits = [int(digit) for digit in str(binary)]\n",
    "    \n",
    "    bitSize = len(bits)\n",
    "    for i in range(n):\n",
    "        previousbit = 0\n",
    "        for bit in bits:\n",
    "            if bits.index(bit) == 0:\n",
    "                rotatedbits.insert(bitSize-1,bit)\n",
    "            \n",
    "        \n",
    "    \n",
    "    \n",
    "\n",
    "\n",
    "rotl(x, 4)\n",
    "\n"
   ]
  },
  {
   "cell_type": "code",
   "execution_count": null,
   "metadata": {},
   "outputs": [],
   "source": []
  }
 ],
 "metadata": {
  "kernelspec": {
   "display_name": "Python 3",
   "language": "python",
   "name": "python3"
  },
  "language_info": {
   "codemirror_mode": {
    "name": "ipython",
    "version": 3
   },
   "file_extension": ".py",
   "mimetype": "text/x-python",
   "name": "python",
   "nbconvert_exporter": "python",
   "pygments_lexer": "ipython3",
   "version": "3.12.1"
  }
 },
 "nbformat": 4,
 "nbformat_minor": 2
}
