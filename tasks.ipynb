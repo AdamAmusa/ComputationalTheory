{
 "cells": [
  {
   "cell_type": "markdown",
   "metadata": {},
   "source": [
    "# Binary Representations"
   ]
  },
  {
   "cell_type": "markdown",
   "metadata": {},
   "source": [
    "## Bit Rotation\n",
    "#### This task was completed using Python's [Bitwise operators.](https://www.geeksforgeeks.org/python-bitwise-operators/), The '0xff' operand is used to mask out every bit but the last 8 bits of the binary value.  "
   ]
  },
  {
   "cell_type": "code",
   "execution_count": 14,
   "metadata": {},
   "outputs": [
    {
     "name": "stdout",
     "output_type": "stream",
     "text": [
      "0b111000\n",
      "0b11\n"
     ]
    }
   ],
   "source": [
    "import numpy\n",
    "import matplotlib.pyplot as plt\n",
    "import pandas as pd\n",
    "\n",
    "x = 14\n",
    "\n",
    "def rotl(x, n):\n",
    "    return (x << n) | (x >> (32 - n)) & 0xff\n",
    "            \n",
    "def rotr(x, n):\n",
    "    return (x >> n) | (x << (32 - n)) & 0xff     \n",
    "        \n",
    "print(bin(rotl(x, 2)))\n",
    "print(bin(rotr(x, 2)))\n",
    "\n"
   ]
  },
  {
   "cell_type": "code",
   "execution_count": null,
   "metadata": {},
   "outputs": [],
   "source": []
  }
 ],
 "metadata": {
  "kernelspec": {
   "display_name": "Python 3",
   "language": "python",
   "name": "python3"
  },
  "language_info": {
   "codemirror_mode": {
    "name": "ipython",
    "version": 3
   },
   "file_extension": ".py",
   "mimetype": "text/x-python",
   "name": "python",
   "nbconvert_exporter": "python",
   "pygments_lexer": "ipython3",
   "version": "3.12.1"
  }
 },
 "nbformat": 4,
 "nbformat_minor": 2
}
