{
 "cells": [
  {
   "cell_type": "markdown",
   "metadata": {},
   "source": []
  },
  {
   "cell_type": "code",
   "execution_count": 11,
   "metadata": {},
   "outputs": [
    {
     "name": "stdout",
     "output_type": "stream",
     "text": [
      "[1, 0, 1, 1, 0, 0]\n",
      "[0, 1, 1, 0, 0, 1]\n"
     ]
    }
   ],
   "source": [
    "import numpy as np\n",
    "import matplotlib,pandas\n",
    "x = 44\n",
    "\n",
    "def rotl(x, n):\n",
    "    rotatedbits = []\n",
    "    binary = format(x, 'b')\n",
    "    bits = [int(digit) for digit in str(binary)]\n",
    "    rotationbits = bits[:n]\n",
    "    rest_of_bits = bits[n:]\n",
    "    print(bits)\n",
    "    rotatedbits = rest_of_bits + rotationbits\n",
    "    print(rotatedbits)        \n",
    "            \n",
    "\n",
    "rotl(x, 1)\n",
    "\n"
   ]
  },
  {
   "cell_type": "code",
   "execution_count": null,
   "metadata": {},
   "outputs": [],
   "source": []
  }
 ],
 "metadata": {
  "kernelspec": {
   "display_name": "Python 3",
   "language": "python",
   "name": "python3"
  },
  "language_info": {
   "codemirror_mode": {
    "name": "ipython",
    "version": 3
   },
   "file_extension": ".py",
   "mimetype": "text/x-python",
   "name": "python",
   "nbconvert_exporter": "python",
   "pygments_lexer": "ipython3",
   "version": "3.12.1"
  }
 },
 "nbformat": 4,
 "nbformat_minor": 2
}
